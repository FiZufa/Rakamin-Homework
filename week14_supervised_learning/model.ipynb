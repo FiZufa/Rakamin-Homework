{
 "cells": [
  {
   "cell_type": "markdown",
   "metadata": {},
   "source": [
    "# Model Training and Testing **YouTube Views Prediction**"
   ]
  },
  {
   "cell_type": "markdown",
   "metadata": {},
   "source": [
    "Model Evaluation: MAE, RSME, MAPE, R^2"
   ]
  },
  {
   "cell_type": "markdown",
   "metadata": {},
   "source": [
    "Techniques:\n",
    "- Linear Regression\n",
    "- Decision Tree\n",
    "- Random Forest\n",
    "- Support Vector Regressor\n",
    "\n",
    "Regularization:\n",
    "- L1\n",
    "- L2 (I think this should perform better)\n",
    "\n",
    "Hyperparameter Tuning\n",
    "- Grid Search"
   ]
  },
  {
   "cell_type": "markdown",
   "metadata": {},
   "source": []
  },
  {
   "cell_type": "code",
   "execution_count": 3,
   "metadata": {},
   "outputs": [],
   "source": [
    "import pandas as pd\n",
    "import numpy as np\n",
    "import matplotlib.pyplot as plt\n",
    "import math\n",
    "import os"
   ]
  },
  {
   "cell_type": "markdown",
   "metadata": {},
   "source": [
    "## Load Dataset"
   ]
  },
  {
   "cell_type": "code",
   "execution_count": null,
   "metadata": {},
   "outputs": [],
   "source": [
    "input_dir = 'data_files'\n",
    "\n",
    "X_train = pd.read_csv(os.path.join(input_dir, 'X_train.csv'))\n",
    "X_test = pd.read_csv(os.path.join(input_dir, 'X_test.csv'))\n",
    "y_train = pd.read_csv(os.path.join(input_dir, 'y_train.csv'))\n",
    "y_test = pd.read_csv(os.path.join(input_dir, 'y_test.csv'))"
   ]
  },
  {
   "cell_type": "code",
   "execution_count": null,
   "metadata": {},
   "outputs": [],
   "source": []
  }
 ],
 "metadata": {
  "kernelspec": {
   "display_name": "base",
   "language": "python",
   "name": "python3"
  },
  "language_info": {
   "codemirror_mode": {
    "name": "ipython",
    "version": 3
   },
   "file_extension": ".py",
   "mimetype": "text/x-python",
   "name": "python",
   "nbconvert_exporter": "python",
   "pygments_lexer": "ipython3",
   "version": "3.11.4"
  }
 },
 "nbformat": 4,
 "nbformat_minor": 2
}
