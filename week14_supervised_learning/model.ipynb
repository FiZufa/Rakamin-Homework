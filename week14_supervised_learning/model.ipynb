{
 "cells": [
  {
   "cell_type": "markdown",
   "metadata": {},
   "source": [
    "# Model Training and Testing **YouTube Views Prediction**"
   ]
  },
  {
   "cell_type": "markdown",
   "metadata": {},
   "source": [
    "Techniques:\n",
    "- Linear Regression\n",
    "- Decision Tree\n",
    "- Random Forest\n",
    "- Support Vector Regressor\n",
    "\n",
    "Regularization:\n",
    "- L1 (Lasso)\n",
    "- L2 (Ridge)\n",
    "\n",
    "Hyperparameter Tuning\n",
    "- Grid Search\n",
    "\n",
    "Model Evaluation: MAE, RSME, MAPE, R^2"
   ]
  },
  {
   "cell_type": "code",
   "execution_count": 8,
   "metadata": {},
   "outputs": [],
   "source": [
    "import numpy as np\n",
    "import pandas as pd\n",
    "from sklearn.model_selection import train_test_split, GridSearchCV\n",
    "from sklearn.linear_model import LinearRegression, Lasso, Ridge\n",
    "from sklearn.tree import DecisionTreeRegressor\n",
    "from sklearn.ensemble import RandomForestRegressor\n",
    "from sklearn.svm import SVR\n",
    "from sklearn.metrics import mean_absolute_error, mean_squared_error, r2_score\n",
    "from sklearn.preprocessing import StandardScaler\n"
   ]
  },
  {
   "cell_type": "markdown",
   "metadata": {},
   "source": [
    "## Load Dataset"
   ]
  },
  {
   "cell_type": "code",
   "execution_count": 9,
   "metadata": {},
   "outputs": [],
   "source": [
    "input_dir = 'data_files'\n",
    "\n",
    "X_train = pd.read_csv(os.path.join(input_dir, 'X_train.csv'))\n",
    "X_test = pd.read_csv(os.path.join(input_dir, 'X_test.csv'))\n",
    "y_train = pd.read_csv(os.path.join(input_dir, 'y_train.csv'))\n",
    "y_test = pd.read_csv(os.path.join(input_dir, 'y_test.csv'))"
   ]
  },
  {
   "cell_type": "code",
   "execution_count": 13,
   "metadata": {},
   "outputs": [
    {
     "name": "stdout",
     "output_type": "stream",
     "text": [
      "(25753, 6) (11038, 6)\n",
      "(25753, 1) (11038, 1)\n"
     ]
    }
   ],
   "source": [
    "print(X_train.shape, X_test.shape)  \n",
    "print(y_train.shape, y_test.shape) "
   ]
  },
  {
   "cell_type": "code",
   "execution_count": 14,
   "metadata": {},
   "outputs": [],
   "source": [
    "y_train = y_train.squeeze()  # Convert DataFrame to Series if necessary\n",
    "y_test = y_test.squeeze()  # Convert DataFrame to Series if necessary"
   ]
  },
  {
   "cell_type": "markdown",
   "metadata": {},
   "source": [
    "## Model Setup"
   ]
  },
  {
   "cell_type": "code",
   "execution_count": 10,
   "metadata": {},
   "outputs": [],
   "source": [
    "# Initialize models\n",
    "models = {\n",
    "    \"Linear Regression\": LinearRegression(),\n",
    "    \"Lasso (L1)\": Lasso(),\n",
    "    \"Ridge (L2)\": Ridge(),\n",
    "    \"Decision Tree\": DecisionTreeRegressor(),\n",
    "    \"Random Forest\": RandomForestRegressor(),\n",
    "    \"Support Vector Regressor (SVR)\": SVR()\n",
    "}"
   ]
  },
  {
   "cell_type": "markdown",
   "metadata": {},
   "source": [
    "## Hyperparameter Tuning"
   ]
  },
  {
   "cell_type": "code",
   "execution_count": 11,
   "metadata": {},
   "outputs": [],
   "source": [
    "# Hyperparameter grid for different models\n",
    "param_grid = {\n",
    "    \"Lasso (L1)\": {\"alpha\": [0.1, 1, 10]},\n",
    "    \"Ridge (L2)\": {\"alpha\": [0.1, 1, 10]},\n",
    "    \"Decision Tree\": {\"max_depth\": [5, 10, 20], \"min_samples_split\": [2, 10]},\n",
    "    \"Random Forest\": {\"n_estimators\": [50, 100, 200], \"max_depth\": [10, 20], \"min_samples_split\": [2, 10]},\n",
    "    \"Support Vector Regressor (SVR)\": {\"C\": [0.1, 1, 10], \"gamma\": [\"scale\", \"auto\"]}\n",
    "}"
   ]
  },
  {
   "cell_type": "markdown",
   "metadata": {},
   "source": [
    "## Model Fitting and Evaluation"
   ]
  },
  {
   "cell_type": "code",
   "execution_count": 15,
   "metadata": {},
   "outputs": [
    {
     "name": "stdout",
     "output_type": "stream",
     "text": [
      "Training Linear Regression...\n",
      "Linear Regression - MAE: 649379.1516, RMSE: 1643316.7473, MAPE: 172.6316%, R²: 0.7449\n",
      "Training Lasso (L1)...\n",
      "Best Params for Lasso (L1): {'alpha': 10}\n",
      "Lasso (L1) - MAE: 649378.0743, RMSE: 1643317.2348, MAPE: 172.6236%, R²: 0.7449\n",
      "Training Ridge (L2)...\n",
      "Best Params for Ridge (L2): {'alpha': 10}\n",
      "Ridge (L2) - MAE: 649376.4393, RMSE: 1643317.4410, MAPE: 172.6172%, R²: 0.7449\n",
      "Training Decision Tree...\n",
      "Best Params for Decision Tree: {'max_depth': 10, 'min_samples_split': 2}\n",
      "Decision Tree - MAE: 393327.9137, RMSE: 1082781.5350, MAPE: 65.0517%, R²: 0.8892\n",
      "Training Random Forest...\n",
      "Best Params for Random Forest: {'max_depth': 20, 'min_samples_split': 2, 'n_estimators': 200}\n",
      "Random Forest - MAE: 323269.3013, RMSE: 880511.6786, MAPE: 56.9286%, R²: 0.9268\n",
      "Training Support Vector Regressor (SVR)...\n",
      "Best Params for Support Vector Regressor (SVR): {'C': 10, 'gamma': 'auto'}\n",
      "Support Vector Regressor (SVR) - MAE: 924260.0328, RMSE: 3336373.1633, MAPE: 160.7385%, R²: -0.0516\n"
     ]
    }
   ],
   "source": [
    "results = {}\n",
    "\n",
    "for model_name, model in models.items():\n",
    "    print(f\"Training {model_name}...\")\n",
    "    \n",
    "    # Apply Grid Search for hyperparameter tuning\n",
    "    if model_name in param_grid:\n",
    "        grid_search = GridSearchCV(model, param_grid[model_name], cv=5, scoring='neg_mean_squared_error', n_jobs=-1)\n",
    "        grid_search.fit(X_train, y_train)\n",
    "        best_model = grid_search.best_estimator_\n",
    "        print(f\"Best Params for {model_name}: {grid_search.best_params_}\")\n",
    "    else:\n",
    "        best_model = model\n",
    "        best_model.fit(X_train, y_train)\n",
    "    \n",
    "    # Predict on test set\n",
    "    y_pred = best_model.predict(X_test)\n",
    "    \n",
    "    # Evaluate the model\n",
    "    mae = mean_absolute_error(y_test, y_pred)\n",
    "    mse = mean_squared_error(y_test, y_pred)\n",
    "    rmse = np.sqrt(mse)\n",
    "    mape = np.mean(np.abs((y_test - y_pred) / y_test)) * 100  # Mean Absolute Percentage Error\n",
    "    r2 = r2_score(y_test, y_pred)\n",
    "    \n",
    "    # Store results\n",
    "    results[model_name] = {\n",
    "        \"MAE\": mae,\n",
    "        \"RMSE\": rmse,\n",
    "        \"MAPE\": mape,\n",
    "        \"R²\": r2\n",
    "    }\n",
    "\n",
    "    # Print evaluation metrics\n",
    "    print(f\"{model_name} - MAE: {mae:.4f}, RMSE: {rmse:.4f}, MAPE: {mape:.4f}%, R²: {r2:.4f}\")\n"
   ]
  },
  {
   "cell_type": "markdown",
   "metadata": {},
   "source": [
    "## Results"
   ]
  },
  {
   "cell_type": "markdown",
   "metadata": {},
   "source": [
    "\n",
    "| **Model**                       | **MAE**           | **RMSE**         | **MAPE**          | **R² Score**   |\n",
    "|----------------------------------|-------------------|------------------|-------------------|----------------|\n",
    "| **Linear Regression**            | 649,379.15        | 1,643,316.75     | 172.63%           | 0.7449         |\n",
    "| **Lasso (L1)**                   | 649,378.07        | 1,643,317.23     | 172.62%           | 0.7449         |\n",
    "| **Ridge (L2)**                   | 649,376.44        | 1,643,317.44     | 172.62%           | 0.7449         |\n",
    "| **Decision Tree**                | 393,327.91        | 1,082,781.54     | 65.05%            | 0.8892         |\n",
    "| **Random Forest**                | 323,269.30        | 880,511.68       | 56.93%            | 0.9268         |\n",
    "| **Support Vector Regressor (SVR)** | 924,260.03        | 3,336,373.16     | 160.74%           | -0.0516        |\n"
   ]
  },
  {
   "cell_type": "markdown",
   "metadata": {},
   "source": [
    "## Conclusion"
   ]
  },
  {
   "cell_type": "markdown",
   "metadata": {},
   "source": [
    "**Best Model**: **Random Forest** Regressor performed the best with the highest R² score (0.9268), the lowest MAE (323,269.30), and MAPE (56.93%). <br>\n",
    "**Second Best**: **Decision Tree** Regressor also performed well, with a good R² score (0.8892) and significantly lower errors than the linear models. <br>\n",
    "**Linear Models (Linear, Lasso, Ridge)**: These performed similarly and did not explain as much variance as the tree-based models, and they had high error rates (MAE, RMSE, MAPE). <br>\n",
    "**SVR**: This performed poorly and is not recommended for this dataset"
   ]
  }
 ],
 "metadata": {
  "kernelspec": {
   "display_name": "base",
   "language": "python",
   "name": "python3"
  },
  "language_info": {
   "codemirror_mode": {
    "name": "ipython",
    "version": 3
   },
   "file_extension": ".py",
   "mimetype": "text/x-python",
   "name": "python",
   "nbconvert_exporter": "python",
   "pygments_lexer": "ipython3",
   "version": "3.11.4"
  }
 },
 "nbformat": 4,
 "nbformat_minor": 2
}
